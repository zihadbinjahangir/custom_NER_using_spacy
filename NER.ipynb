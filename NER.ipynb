{
 "cells": [
  {
   "cell_type": "markdown",
   "id": "2d235806",
   "metadata": {},
   "source": [
    "# Custom FOOD entities Model"
   ]
  },
  {
   "cell_type": "code",
   "execution_count": 5,
   "id": "3082ee96",
   "metadata": {},
   "outputs": [],
   "source": [
    "############# Importimg Libraries ##############\n",
    "import spacy\n",
    "from spacy.matcher import Matcher"
   ]
  },
  {
   "cell_type": "markdown",
   "id": "d5f73730",
   "metadata": {},
   "source": [
    "# Custom small food dataset preparation and preprocess for spacy NER dataset format"
   ]
  },
  {
   "cell_type": "code",
   "execution_count": 7,
   "id": "ac2f240a",
   "metadata": {},
   "outputs": [],
   "source": [
    "####### This function for creating a list of food patterns It will help us for annotation ########\n",
    "def create_patterns():\n",
    "    food_patterns = [\n",
    "        [{'LOWER': 'milk'}],[{'LOWER': 'Milk'}],[{'LOWER': 'meat'}],[{'LOWER': 'Meat'}],\n",
    "        [{'LOWER': 'Bread'}],[{'LOWER': 'bread'}],[{'LOWER': 'Butter'}],[{'LOWER': 'butter'}],\n",
    "        [{'LOWER': 'Cheese'}],[{'LOWER': 'cheese'}],[{'LOWER': 'Yogurt'}],[{'LOWER': 'Yogurt'}],\n",
    "        [{'LOWER': 'Sandwich'}],[{'LOWER': 'sandwich'}],[{'LOWER': 'Pancake'}],[{'LOWER': 'Pancake'}],\n",
    "        [{'LOWER': 'Pie'}],[{'LOWER': 'pie'}],[{'LOWER': 'Honey'}],[{'LOWER': 'honey'}],\n",
    "        [{'LOWER': 'Waffle'}],[{'LOWER': 'waffle'}],[{'LOWER': 'Donuts'}],[{'LOWER': 'donuts'}],\n",
    "        [{'LOWER': 'Salad'}],[{'LOWER': 'salad'}],[{'LOWER': 'Meatball'}],[{'LOWER': 'meatball'}],\n",
    "        [{'LOWER': 'Grilled chicken'}],[{'LOWER': 'grilled chicken'}],[{'LOWER': 'Burger'}],[{'LOWER': 'burger'}],[{'LOWER': 'burgers'}],\n",
    "        [{'LOWER': 'Tuna'}],[{'LOWER': 'tuna'}],[{'LOWER': 'Fish'}],[{'LOWER': 'fish'}],[{'LOWER': 'Hilsa'}],\n",
    "        [{'LOWER': 'Noodles'}],[{'LOWER': 'noodles'}],[{'LOWER': 'Egg'}],[{'LOWER': 'egg'}],\n",
    "        [{'LOWER': 'Bacon'}],[{'LOWER': 'bacon'}],[{'LOWER': 'Pizza'}],[{'LOWER': 'pizza'}],\n",
    "        [{'LOWER': 'French Fries'}],[{'LOWER': 'french fries'}],[{'LOWER': 'French fries'}],\n",
    "        [{'LOWER': 'Biryani'}],[{'LOWER': 'biryani'}],[{'LOWER': 'Pasta'}],[{'LOWER': 'pasta'}],\n",
    "        [{'LOWER': 'Smoked salmon'}],[{'LOWER': 'smoked salmon'}],[{'LOWER': 'salmon'}],[{'LOWER': 'Salmon'}],\n",
    "        [{'LOWER': 'Mayonnaise'}],[{'LOWER': 'mayonnaise'}],[{'LOWER': 'Taco'}],[{'LOWER': 'taco'}],\n",
    "        [{'LOWER': 'Hotdog'}],[{'LOWER': 'hotdog'}],[{'LOWER': 'hot dog'}],[{'LOWER': 'Dosa'}],[{'LOWER': 'dosa'}],\n",
    "        [{'LOWER': 'Chocolate'}],[{'LOWER': 'chocolate'}],[{'LOWER': 'Ice cream'}],[{'LOWER': 'ice cream'}],\n",
    "        [{'LOWER': 'Rice'}],[{'LOWER': 'rice'}],\n",
    "        [{'LOWER': 'Fride Rice'}],[{'LOWER': 'fride rice'}],[{'LOWER': 'hamburgers'}],[{'LOWER': 'Hamburgers'}],\n",
    "        \n",
    "        [{'LOWER': 'Apple'}],[{'LOWER': 'apple'}],[{'LOWER': 'Banana'}],[{'LOWER': 'banana'}],\n",
    "        [{'LOWER': 'Orange'}],[{'LOWER': 'orange'}],[{'LOWER': 'Mango'}],[{'LOWER': 'mango'}],\n",
    "        [{'LOWER': 'Grapes'}],[{'LOWER': 'grape'}],[{'LOWER': 'Pineapple'}],[{'LOWER': 'pineapple'}],\n",
    "        [{'LOWER': 'Pomegranate'}],[{'LOWER': 'pomegranate'}],[{'LOWER': 'Avocado'}],[{'LOWER': 'avocado'}],\n",
    "        [{'LOWER': 'Coconut'}],[{'LOWER': 'coconut'}],[{'LOWER': 'Papaya'}],[{'LOWER': 'papaya'}],\n",
    "        [{'LOWER': 'Dragonfruit'}],[{'LOWER': 'dragonfruit'}],[{'LOWER': 'Strawberry'}],[{'LOWER': 'strawberry'}],\n",
    "        [{'LOWER': 'Blueberry'}],[{'LOWER': 'blueberry'}],[{'LOWER': 'Blackberry'}],[{'LOWER': 'blackberry'}],\n",
    "        [{'LOWER': 'Cherry'}],[{'LOWER': 'Lime'}]]\n",
    "    return food_patterns\n"
   ]
  },
  {
   "cell_type": "code",
   "execution_count": 8,
   "id": "cd0fdd60",
   "metadata": {},
   "outputs": [],
   "source": [
    "######## Creating Matcher #########\n",
    "matcher = Matcher(nlp.vocab, validate=True)\n",
    "matcher.add(\"FOOD\", create_patterns())"
   ]
  },
  {
   "cell_type": "code",
   "execution_count": 19,
   "id": "4088179f",
   "metadata": {},
   "outputs": [
    {
     "data": {
      "text/plain": [
       "('I love hot dog and rice', {'entities': [(19, 23, 'FOOD')]})"
      ]
     },
     "execution_count": 19,
     "metadata": {},
     "output_type": "execute_result"
    }
   ],
   "source": [
    "########### This function will take nlp doc and return a tuple with full sentence and entities ############\n",
    "def parse_train_data(doc):\n",
    "    detections = [(doc[start:end].start_char, doc[start:end].end_char, 'FOOD') for idx, start, end in matcher(doc)]\n",
    "    return (doc.text, {'entities': detections})\n",
    "\n",
    "parse_train_data(nlp(\"I love hot dog and rice\"))"
   ]
  },
  {
   "cell_type": "markdown",
   "id": "f994b347",
   "metadata": {},
   "source": [
    "# Lets prepare our custom small food dataset"
   ]
  },
  {
   "cell_type": "code",
   "execution_count": 10,
   "id": "0cf97c8f",
   "metadata": {},
   "outputs": [],
   "source": [
    "####### Fooddata.txt contains some texts related to food ##############\n",
    "with open(\"fooddata.txt\",'r') as f:\n",
    "    data = f.read()"
   ]
  },
  {
   "cell_type": "code",
   "execution_count": 44,
   "id": "bcb42469",
   "metadata": {},
   "outputs": [],
   "source": [
    "######## Now using the previous function (parse_train_data(doc)) we can prepare our dataset for NER and stored in a list ######\n",
    "doc = nlp(data)\n",
    "train_data = [parse_train_data(nlp(sn.text)) for sn in list(doc.sents)]"
   ]
  },
  {
   "cell_type": "code",
   "execution_count": 45,
   "id": "a9d35081",
   "metadata": {},
   "outputs": [
    {
     "data": {
      "text/plain": [
       "[('The avocado (Persea americana) is a tree originating in the Americas which is likely native to the highland regions of south-central Mexico to Guatemala.',\n",
       "  {'entities': [(4, 11, 'FOOD')]}),\n",
       " ('The term hot dog can also refer to the sausage itself.', {'entities': []}),\n",
       " ('A hamburger is a food consisting of fillings usually a patty of ground meat, typically beefâ€”placed inside a sliced bun or bread roll.',\n",
       "  {'entities': [(71, 75, 'FOOD'), (124, 129, 'FOOD')]}),\n",
       " ('A pancake is a flat cake, often thin and round, prepared from a starch-based batter that may contain eggs, milk and butter and cooked on a hot surface such as a griddle or frying pan, often frying with oil or butter.',\n",
       "  {'entities': [(107, 111, 'FOOD'), (116, 122, 'FOOD'), (209, 215, 'FOOD')]}),\n",
       " ('It is a type of batter bread.', {'entities': [(23, 28, 'FOOD')]}),\n",
       " ('Examples of fast food (left to right, top to bottom): Cheeseburger, Soft drink, French fries, Pizza Margherita, Hot dog, Fried chicken, Submarine sandwich.',\n",
       "  {'entities': [(94, 99, 'FOOD'), (146, 154, 'FOOD')]}),\n",
       " ('banana can provide nearly 10% of your daily fiber requirement.',\n",
       "  {'entities': [(0, 6, 'FOOD')]}),\n",
       " ('A mango is an edible stone fruit produced by the tropical tree Mangifera indica which is believed to have originated from the region between northwestern Myanmar, Bangladesh, and northeastern India.',\n",
       "  {'entities': [(2, 7, 'FOOD')]}),\n",
       " ('See how to bake bread at home.', {'entities': [(16, 21, 'FOOD')]}),\n",
       " ('The national dish of USA is your favourite Hamburger.', {'entities': []}),\n",
       " ('A grape is a fruit, botanically a berry, of the deciduous woody vines of the flowering plant genus Vitis.',\n",
       "  {'entities': [(2, 7, 'FOOD')]}),\n",
       " ('Noodles are usually cooked in boiling water, sometimes with cooking oil or salt added.',\n",
       "  {'entities': [(0, 7, 'FOOD')]}),\n",
       " ('American people love Burger and pizza.',\n",
       "  {'entities': [(21, 27, 'FOOD'), (32, 37, 'FOOD')]}),\n",
       " ('We all know, burgers are high-calorie junk food that are not good for our health.',\n",
       "  {'entities': [(13, 20, 'FOOD')]}),\n",
       " ('Burgers are these days loaded with cheese slices, mayo and ketchup.',\n",
       "  {'entities': [(0, 7, 'FOOD'), (35, 41, 'FOOD')]}),\n",
       " ('A tuna is a saltwater fish that belongs to the tribe Thunnini, a subgrouping of the Scombridae family.',\n",
       "  {'entities': [(2, 6, 'FOOD'), (22, 26, 'FOOD')]}),\n",
       " ('The Thunnini comprise 15 species across five genera, the sizes of which vary greatly, ranging from the bullet tuna up to the Atlantic bluefin tuna, which averages 2 m and is believed to live up to 50 years.',\n",
       "  {'entities': [(110, 114, 'FOOD'), (142, 146, 'FOOD')]}),\n",
       " ('Biryani is a mixed rice dish originating among the Muslims of the Indian subcontinent.',\n",
       "  {'entities': [(0, 7, 'FOOD'), (19, 23, 'FOOD')]}),\n",
       " ('It is made with Indian spices, rice, and usually some type of meat or in some cases without any meat, and sometimes, in additio , eggs and potatoes.',\n",
       "  {'entities': [(31, 35, 'FOOD'), (62, 66, 'FOOD'), (96, 100, 'FOOD')]}),\n",
       " ('The name wild rice is usually used for species of the genera Zizania and Porteresia, both wild and domesticated, although the term may also be used for primitive or uncultivated varieties of Oryza.',\n",
       "  {'entities': [(14, 18, 'FOOD')]})]"
      ]
     },
     "execution_count": 45,
     "metadata": {},
     "output_type": "execute_result"
    }
   ],
   "source": [
    "train_data"
   ]
  },
  {
   "cell_type": "code",
   "execution_count": 13,
   "id": "7a1d43b8",
   "metadata": {},
   "outputs": [],
   "source": [
    "############# importing DocBin and tqdm ############\n",
    "from spacy.tokens import DocBin\n",
    "from tqdm import tqdm"
   ]
  },
  {
   "cell_type": "code",
   "execution_count": 46,
   "id": "34ebaea3",
   "metadata": {},
   "outputs": [],
   "source": [
    "############ Creating a nlp and DocBin object #############\n",
    "nlp = spacy.load(\"en_core_web_sm\")\n",
    "db = DocBin()"
   ]
  },
  {
   "cell_type": "markdown",
   "id": "95d033a4",
   "metadata": {},
   "source": [
    "# Covert our train_data into .spacy file"
   ]
  },
  {
   "cell_type": "markdown",
   "id": "6b427c3c",
   "metadata": {},
   "source": [
    "We need to first convert the training data into .spacy object, because spacy 3 required .spacy file for training"
   ]
  },
  {
   "cell_type": "code",
   "execution_count": 47,
   "id": "22451a1a",
   "metadata": {},
   "outputs": [
    {
     "name": "stderr",
     "output_type": "stream",
     "text": [
      "100%|██████████| 20/20 [00:00<00:00, 716.20it/s]\n"
     ]
    }
   ],
   "source": [
    "######### convertiong our training data into .spacy object and saving it locally ##########\n",
    "for text, annot in tqdm(train_data):\n",
    "    doc = nlp.make_doc(text) \n",
    "    ents = []\n",
    "    for start, end, label in annot[\"entities\"]:\n",
    "        span = doc.char_span(start, end, label=label, alignment_mode=\"contract\")\n",
    "        if span is None:\n",
    "            print(\"Skipping entity\")\n",
    "        else:\n",
    "            ents.append(span)\n",
    "    doc.ents = ents \n",
    "    db.add(doc)\n",
    "\n",
    "db.to_disk(\"./training_data.spacy\")"
   ]
  },
  {
   "cell_type": "markdown",
   "id": "5d15dd00",
   "metadata": {},
   "source": [
    "# Train the model"
   ]
  },
  {
   "cell_type": "code",
   "execution_count": 48,
   "id": "10868801",
   "metadata": {},
   "outputs": [
    {
     "name": "stdout",
     "output_type": "stream",
     "text": [
      "[!] To generate a more effective transformer-based config (GPU-only), install\n",
      "the spacy-transformers package and re-run this command. The config generated now\n",
      "does not use transformers.\n",
      "[i] Generated config template specific for your use case\n",
      "- Language: en\n",
      "- Pipeline: ner\n",
      "- Optimize for: efficiency\n",
      "- Hardware: CPU\n",
      "- Transformer: None\n",
      "[+] Auto-filled config with all values\n",
      "[+] Saved config\n",
      "config.cfg\n",
      "You can now add your data and train your pipeline:\n",
      "python -m spacy train config.cfg --paths.train ./train.spacy --paths.dev ./dev.spacy\n"
     ]
    }
   ],
   "source": [
    "############ Creating Config file #############\n",
    "! python -m spacy init config config.cfg --lang en --pipeline ner --optimize efficiency"
   ]
  },
  {
   "cell_type": "code",
   "execution_count": 49,
   "id": "17e22641",
   "metadata": {},
   "outputs": [
    {
     "name": "stdout",
     "output_type": "stream",
     "text": [
      "[i] Using CPU\n"
     ]
    },
    {
     "name": "stderr",
     "output_type": "stream",
     "text": [
      "[2022-06-19 20:58:32,048] [INFO] Set up nlp object from config\n",
      "[2022-06-19 20:58:32,060] [INFO] Pipeline: ['tok2vec', 'ner']\n",
      "[2022-06-19 20:58:32,064] [INFO] Created vocabulary\n",
      "[2022-06-19 20:58:32,064] [INFO] Finished initializing nlp object\n",
      "[2022-06-19 20:58:32,200] [INFO] Initialized pipeline components: ['tok2vec', 'ner']\n"
     ]
    },
    {
     "name": "stdout",
     "output_type": "stream",
     "text": [
      "\u001b[1m\n",
      "=========================== Initializing pipeline ===========================\u001b[0m\n",
      "[+] Initialized pipeline\n",
      "\u001b[1m\n",
      "============================= Training pipeline =============================\u001b[0m\n",
      "[i] Pipeline: ['tok2vec', 'ner']\n",
      "[i] Initial learn rate: 0.001\n",
      "E    #       LOSS TOK2VEC  LOSS NER  ENTS_F  ENTS_P  ENTS_R  SCORE \n",
      "---  ------  ------------  --------  ------  ------  ------  ------\n",
      "  0       0          0.00     37.83    0.00    0.00    0.00    0.00\n",
      " 41     200          4.51    765.04  100.00  100.00  100.00    1.00\n",
      " 93     400          0.00      0.00  100.00  100.00  100.00    1.00\n",
      "158     600          0.00      0.00  100.00  100.00  100.00    1.00\n",
      "235     800          0.00      0.00  100.00  100.00  100.00    1.00\n",
      "335    1000          0.00      0.00  100.00  100.00  100.00    1.00\n",
      "435    1200          0.00      0.00  100.00  100.00  100.00    1.00\n",
      "584    1400          0.00      0.00  100.00  100.00  100.00    1.00\n",
      "784    1600          0.00      0.00  100.00  100.00  100.00    1.00\n",
      "984    1800          0.00      0.00  100.00  100.00  100.00    1.00\n",
      "[+] Saved pipeline to output directory\n",
      "model-last\n"
     ]
    }
   ],
   "source": [
    "########### Now train using the config file ###########\n",
    "! python -m spacy train config.cfg --output ./ --paths.train ./training_data.spacy --paths.dev ./training_data.spacy"
   ]
  },
  {
   "cell_type": "markdown",
   "id": "e811f794",
   "metadata": {},
   "source": [
    "# Lets test our model"
   ]
  },
  {
   "cell_type": "code",
   "execution_count": 50,
   "id": "82e61436",
   "metadata": {},
   "outputs": [],
   "source": [
    "nlp_ner = spacy.load(\"model-best\")"
   ]
  },
  {
   "cell_type": "code",
   "execution_count": 61,
   "id": "ba54dd63",
   "metadata": {},
   "outputs": [],
   "source": [
    "doc = nlp_ner(\"\"\"Another concept of fast food that is becoming popular is that of Food Courts. Here also one has to purchase coupons and collect the food from one of the several counters. Each one of these counters serves specific variety of food and may be owned by different individuals or caterers. Food Courts are normally located on much bigger premises and may provide seating facility in addition to the stand and eat arrangement. Typically one entrepreneur owns or takes on lease the entire premises and promotes the place under one name. They then let out individual counters to different independent operators to offer different menu. Internal competition is avoided by not allowing more than one counter to offer similar food.\n",
    "In the fast-food version, a plate already arranged with a variety of cooked vegetables and curries along with a fixed quantity of rice and Indian flatbreads is handed out across the counter against a prepaid coupon. The curries and breads vary depending on the region and local preferences. The higher priced ones may add a sweet to the combination. Refills are generally not offered. The rice, which is first washed and then mixed with spices, is added on top, before the meat and rice are cooked together. Sometimes potato is added to the mix to add body to the dish.\n",
    "Kacchi Biriyani is eaten all year round, and people rarely need a special occasion to eat it. If you are visiting Bangladesh, make sure you grab yourself a plate.\"\"\")"
   ]
  },
  {
   "cell_type": "code",
   "execution_count": 62,
   "id": "d9ce3dd8",
   "metadata": {},
   "outputs": [
    {
     "data": {
      "text/html": [
       "<span class=\"tex2jax_ignore\"><div class=\"entities\" style=\"line-height: 2.5; direction: ltr\">Another concept of fast food that is becoming popular is that of Food Courts. Here also one has to purchase coupons and collect the food from one of the several counters. Each one of these counters serves specific variety of food and may be owned by different individuals or \n",
       "<mark class=\"entity\" style=\"background: #ddd; padding: 0.45em 0.6em; margin: 0 0.25em; line-height: 1; border-radius: 0.35em;\">\n",
       "    caterers\n",
       "    <span style=\"font-size: 0.8em; font-weight: bold; line-height: 1; border-radius: 0.35em; vertical-align: middle; margin-left: 0.5rem\">FOOD</span>\n",
       "</mark>\n",
       ". Food Courts are normally located on much bigger premises and may provide seating facility in addition to the stand and eat arrangement. Typically one entrepreneur owns or takes on lease the entire premises and promotes the place under one name. They then let out individual counters to different independent operators to offer different \n",
       "<mark class=\"entity\" style=\"background: #ddd; padding: 0.45em 0.6em; margin: 0 0.25em; line-height: 1; border-radius: 0.35em;\">\n",
       "    menu\n",
       "    <span style=\"font-size: 0.8em; font-weight: bold; line-height: 1; border-radius: 0.35em; vertical-align: middle; margin-left: 0.5rem\">FOOD</span>\n",
       "</mark>\n",
       ". Internal competition is avoided by not allowing more than one counter to offer similar food.</br>In the fast-food version, a plate already arranged with a variety of cooked vegetables and curries along with a fixed quantity of \n",
       "<mark class=\"entity\" style=\"background: #ddd; padding: 0.45em 0.6em; margin: 0 0.25em; line-height: 1; border-radius: 0.35em;\">\n",
       "    rice\n",
       "    <span style=\"font-size: 0.8em; font-weight: bold; line-height: 1; border-radius: 0.35em; vertical-align: middle; margin-left: 0.5rem\">FOOD</span>\n",
       "</mark>\n",
       " and Indian flatbreads is handed out across the counter against a prepaid coupon. The curries and breads vary depending on the region and local preferences. The higher priced ones may add a sweet to the combination. \n",
       "<mark class=\"entity\" style=\"background: #ddd; padding: 0.45em 0.6em; margin: 0 0.25em; line-height: 1; border-radius: 0.35em;\">\n",
       "    Refills\n",
       "    <span style=\"font-size: 0.8em; font-weight: bold; line-height: 1; border-radius: 0.35em; vertical-align: middle; margin-left: 0.5rem\">FOOD</span>\n",
       "</mark>\n",
       " are generally not offered. The \n",
       "<mark class=\"entity\" style=\"background: #ddd; padding: 0.45em 0.6em; margin: 0 0.25em; line-height: 1; border-radius: 0.35em;\">\n",
       "    rice\n",
       "    <span style=\"font-size: 0.8em; font-weight: bold; line-height: 1; border-radius: 0.35em; vertical-align: middle; margin-left: 0.5rem\">FOOD</span>\n",
       "</mark>\n",
       ", which is first washed and then mixed with spices, is added on top, before the \n",
       "<mark class=\"entity\" style=\"background: #ddd; padding: 0.45em 0.6em; margin: 0 0.25em; line-height: 1; border-radius: 0.35em;\">\n",
       "    meat\n",
       "    <span style=\"font-size: 0.8em; font-weight: bold; line-height: 1; border-radius: 0.35em; vertical-align: middle; margin-left: 0.5rem\">FOOD</span>\n",
       "</mark>\n",
       " and \n",
       "<mark class=\"entity\" style=\"background: #ddd; padding: 0.45em 0.6em; margin: 0 0.25em; line-height: 1; border-radius: 0.35em;\">\n",
       "    rice\n",
       "    <span style=\"font-size: 0.8em; font-weight: bold; line-height: 1; border-radius: 0.35em; vertical-align: middle; margin-left: 0.5rem\">FOOD</span>\n",
       "</mark>\n",
       " are cooked together. Sometimes \n",
       "<mark class=\"entity\" style=\"background: #ddd; padding: 0.45em 0.6em; margin: 0 0.25em; line-height: 1; border-radius: 0.35em;\">\n",
       "    potato\n",
       "    <span style=\"font-size: 0.8em; font-weight: bold; line-height: 1; border-radius: 0.35em; vertical-align: middle; margin-left: 0.5rem\">FOOD</span>\n",
       "</mark>\n",
       " is added to the mix to add body to the dish.</br>Kacchi \n",
       "<mark class=\"entity\" style=\"background: #ddd; padding: 0.45em 0.6em; margin: 0 0.25em; line-height: 1; border-radius: 0.35em;\">\n",
       "    Biriyani\n",
       "    <span style=\"font-size: 0.8em; font-weight: bold; line-height: 1; border-radius: 0.35em; vertical-align: middle; margin-left: 0.5rem\">FOOD</span>\n",
       "</mark>\n",
       " is eaten all year round, and people rarely need a special occasion to eat it. If you are visiting Bangladesh, make sure you grab yourself a plate.</div></span>"
      ],
      "text/plain": [
       "<IPython.core.display.HTML object>"
      ]
     },
     "metadata": {},
     "output_type": "display_data"
    }
   ],
   "source": [
    "spacy.displacy.render(doc, style=\"ent\", jupyter=True) "
   ]
  },
  {
   "cell_type": "code",
   "execution_count": null,
   "id": "78cb1d55",
   "metadata": {},
   "outputs": [],
   "source": []
  }
 ],
 "metadata": {
  "kernelspec": {
   "display_name": "Python 3",
   "language": "python",
   "name": "python3"
  },
  "language_info": {
   "codemirror_mode": {
    "name": "ipython",
    "version": 3
   },
   "file_extension": ".py",
   "mimetype": "text/x-python",
   "name": "python",
   "nbconvert_exporter": "python",
   "pygments_lexer": "ipython3",
   "version": "3.8.8"
  }
 },
 "nbformat": 4,
 "nbformat_minor": 5
}
